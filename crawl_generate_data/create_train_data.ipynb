{
 "cells": [
  {
   "cell_type": "code",
   "execution_count": 8,
   "metadata": {},
   "outputs": [
    {
     "name": "stdout",
     "output_type": "stream",
     "text": [
      "File mới đã được lưu tại ../Data/TaskA/training/train_balanced_spanish.csv với 20724 mẫu label=1 và 62172 mẫu label=0.\n"
     ]
    }
   ],
   "source": [
    "import pandas as pd\n",
    "import random\n",
    "\n",
    "# Đọc dữ liệu gốc\n",
    "file_path = r\"..\\Data\\TaskA\\training\\spanish\\taskA_training_es.tsv\"\n",
    "df = pd.read_csv(file_path, delimiter=\"\\t\", header=None)  # File có dấu tab phân cách\n",
    "\n",
    "# Giữ lại cột thứ 3 và 4, đặt tên cột\n",
    "df_new = df.iloc[:, [2, 3]].copy()\n",
    "df_new.columns = [\"job_title_1\", \"job_title_2\"]\n",
    "df_new[\"label\"] = 1  # Thêm cột label = 1\n",
    "\n",
    "# Nhóm dữ liệu theo cột 1 (loại)\n",
    "grouped = df.groupby(0)\n",
    "\n",
    "# Tạo danh sách job titles theo từng nhóm\n",
    "group_titles = {group: set(data.iloc[:, 2].tolist() + data.iloc[:, 3].tolist()) for group, data in grouped}\n",
    "\n",
    "# Danh sách tất cả nhóm\n",
    "all_groups = list(group_titles.keys())\n",
    "\n",
    "# Số lượng mẫu label = 0 cần tạo (gấp 3 lần dữ liệu gốc)\n",
    "num_samples = len(df) * 3\n",
    "negative_samples = []\n",
    "\n",
    "while len(negative_samples) < num_samples:\n",
    "    # Chọn ngẫu nhiên 2 nhóm khác nhau\n",
    "    group1, group2 = random.sample(all_groups, 2)\n",
    "    \n",
    "    # Chọn một job title từ mỗi nhóm\n",
    "    title1 = random.choice(list(group_titles[group1]))\n",
    "    title2 = random.choice(list(group_titles[group2]))\n",
    "    \n",
    "    # Thêm vào danh sách\n",
    "    negative_samples.append([title1, title2, 0])\n",
    "\n",
    "# Chuyển danh sách về DataFrame và đặt tên cột\n",
    "df_negative = pd.DataFrame(negative_samples, columns=[\"job_title_1\", \"job_title_2\", \"label\"])\n",
    "\n",
    "# Gộp cả hai tập lại\n",
    "df_final = pd.concat([df_new, df_negative], ignore_index=True)\n",
    "\n",
    "# Lưu file mới với tên cột\n",
    "output_path = r\"../Data/TaskA/training/train_balanced_spanish.csv\"\n",
    "df_final.to_csv(output_path, index=False, sep=\"\\t\")\n",
    "\n",
    "print(f\"File mới đã được lưu tại {output_path} với {len(df_new)} mẫu label=1 và {len(df_negative)} mẫu label=0.\")\n"
   ]
  }
 ],
 "metadata": {
  "kernelspec": {
   "display_name": "Python 3",
   "language": "python",
   "name": "python3"
  },
  "language_info": {
   "codemirror_mode": {
    "name": "ipython",
    "version": 3
   },
   "file_extension": ".py",
   "mimetype": "text/x-python",
   "name": "python",
   "nbconvert_exporter": "python",
   "pygments_lexer": "ipython3",
   "version": "3.11.3"
  }
 },
 "nbformat": 4,
 "nbformat_minor": 2
}
